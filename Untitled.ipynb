{
 "cells": [
  {
   "cell_type": "code",
   "execution_count": 41,
   "metadata": {},
   "outputs": [
    {
     "name": "stdout",
     "output_type": "stream",
     "text": [
      "letter G is not pressent\n"
     ]
    }
   ],
   "source": [
    "import random\n",
    "count = 0\n",
    "choice = random.choice(string.ascii_letters).upper()\n",
    "for i in 'PSEUDOPSEUDOHYPOPARATHUROIDISM':\n",
    "    if i == choice:\n",
    "        count += 1\n",
    "        present = True\n",
    "if count == 0: print('letter {} is not pressent'.format(choice))\n",
    "else: print('letter {} was selected \\nand was found {} times'.format(choice,count))"
   ]
  },
  {
   "cell_type": "code",
   "execution_count": 42,
   "metadata": {},
   "outputs": [
    {
     "name": "stdout",
     "output_type": "stream",
     "text": [
      "Password: heisup\n",
      "he15up6\n"
     ]
    }
   ],
   "source": [
    "password = input('Password: ')\n",
    "for i in 'iIsS':\n",
    "    if i.lower() == 'i':\n",
    "        password = password.replace(i,'1')\n",
    "    else:\n",
    "        password = password.replace(i,'5')\n",
    "password += str(len(password))\n",
    "print(password)"
   ]
  },
  {
   "cell_type": "code",
   "execution_count": 67,
   "metadata": {},
   "outputs": [
    {
     "name": "stdout",
     "output_type": "stream",
     "text": [
      "Name: ana\n",
      " Surname: herrera\n",
      "\n",
      "Name: ben\n",
      " Surname: ainslie\n",
      "\n",
      "Name: carli\n",
      " Surname: simon\n",
      "\n",
      "Name: daniel\n",
      " Surname: defoe\n",
      "\n",
      "Name: elaine\n",
      " Surname: williams\n",
      "\n",
      "Name: fred\n",
      " Surname: jones\n",
      "\n"
     ]
    }
   ],
   "source": [
    "names = ['ana,herrera', 'ben,ainslie', 'carli,simon', 'daniel,defoe', 'elaine,williams', 'fred,jones', 'george,gershwin,']\n",
    "for i in range(len(names)-1):\n",
    "    x,y = names[i].split(',')\n",
    "    print('Name: {}\\n Surname: {}\\n'.format(x,y))"
   ]
  }
 ],
 "metadata": {
  "kernelspec": {
   "display_name": "Python 3",
   "language": "python",
   "name": "python3"
  },
  "language_info": {
   "codemirror_mode": {
    "name": "ipython",
    "version": 3
   },
   "file_extension": ".py",
   "mimetype": "text/x-python",
   "name": "python",
   "nbconvert_exporter": "python",
   "pygments_lexer": "ipython3",
   "version": "3.5.2"
  }
 },
 "nbformat": 4,
 "nbformat_minor": 2
}
